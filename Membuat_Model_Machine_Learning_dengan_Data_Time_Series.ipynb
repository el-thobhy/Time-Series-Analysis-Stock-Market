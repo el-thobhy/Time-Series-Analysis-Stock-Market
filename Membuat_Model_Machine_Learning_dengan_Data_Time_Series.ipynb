{
  "nbformat": 4,
  "nbformat_minor": 0,
  "metadata": {
    "colab": {
      "name": "Membuat Model Machine Learning dengan Data Time Series.ipynb",
      "provenance": [],
      "collapsed_sections": []
    },
    "kernelspec": {
      "name": "python3",
      "display_name": "Python 3"
    },
    "language_info": {
      "name": "python"
    },
    "accelerator": "GPU"
  },
  "cells": [
    {
      "cell_type": "markdown",
      "source": [
        "Nama: Auriwan yasper\n",
        "\n",
        "E-mail : auriwanyasper@gmail.com"
      ],
      "metadata": {
        "id": "4PeblsVA9NLF"
      }
    },
    {
      "cell_type": "markdown",
      "source": [
        "# Import Modul"
      ],
      "metadata": {
        "id": "OLarxRta9Zty"
      }
    },
    {
      "cell_type": "code",
      "execution_count": 1,
      "metadata": {
        "id": "Z5mDGASvxcl_"
      },
      "outputs": [],
      "source": [
        "import numpy as np\n",
        "import pandas as pd\n",
        "from keras.layers import Dense, LSTM\n",
        "import matplotlib.pyplot as plt\n",
        "import tensorflow as tf\n",
        "from google.colab import files\n",
        "from sklearn.model_selection import train_test_split"
      ]
    },
    {
      "cell_type": "markdown",
      "source": [
        "# Persiapan DataSet"
      ],
      "metadata": {
        "id": "pPm1E7I7-J0z"
      }
    },
    {
      "cell_type": "markdown",
      "source": [
        "upload dataset"
      ],
      "metadata": {
        "id": "xf4PYVad-uui"
      }
    },
    {
      "cell_type": "code",
      "source": [
        "dataset = files.upload()"
      ],
      "metadata": {
        "colab": {
          "resources": {
            "http://localhost:8080/nbextensions/google.colab/files.js": {
              "data": "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",
              "ok": true,
              "headers": [
                [
                  "content-type",
                  "application/javascript"
                ]
              ],
              "status": 200,
              "status_text": ""
            }
          },
          "base_uri": "https://localhost:8080/",
          "height": 73
        },
        "id": "hJUf8ygS-PYr",
        "outputId": "2da95280-fad6-470b-a4b0-1e84c4cd2db8"
      },
      "execution_count": 2,
      "outputs": [
        {
          "output_type": "display_data",
          "data": {
            "text/html": [
              "\n",
              "     <input type=\"file\" id=\"files-16626cd7-8ce7-408f-b5bd-15aeeb8ce7f8\" name=\"files[]\" multiple disabled\n",
              "        style=\"border:none\" />\n",
              "     <output id=\"result-16626cd7-8ce7-408f-b5bd-15aeeb8ce7f8\">\n",
              "      Upload widget is only available when the cell has been executed in the\n",
              "      current browser session. Please rerun this cell to enable.\n",
              "      </output>\n",
              "      <script src=\"/nbextensions/google.colab/files.js\"></script> "
            ],
            "text/plain": [
              "<IPython.core.display.HTML object>"
            ]
          },
          "metadata": {}
        },
        {
          "output_type": "stream",
          "name": "stdout",
          "text": [
            "Saving AVA.csv to AVA.csv\n"
          ]
        }
      ]
    },
    {
      "cell_type": "markdown",
      "source": [
        "Mengubah dataset menjadi dataframe"
      ],
      "metadata": {
        "id": "7D_7RiKQ-zai"
      }
    },
    {
      "cell_type": "code",
      "source": [
        "df = pd.read_csv('AVA.csv')\n",
        "df"
      ],
      "metadata": {
        "colab": {
          "base_uri": "https://localhost:8080/",
          "height": 468
        },
        "id": "sPVYbwQ_-zDR",
        "outputId": "a8a4be81-c798-490c-df4d-e1135c05dbc5"
      },
      "execution_count": 3,
      "outputs": [
        {
          "output_type": "execute_result",
          "data": {
            "text/html": [
              "\n",
              "  <div id=\"df-fee769fc-dfa5-4e43-86a3-e53b7fc7c0ee\">\n",
              "    <div class=\"colab-df-container\">\n",
              "      <div>\n",
              "<style scoped>\n",
              "    .dataframe tbody tr th:only-of-type {\n",
              "        vertical-align: middle;\n",
              "    }\n",
              "\n",
              "    .dataframe tbody tr th {\n",
              "        vertical-align: top;\n",
              "    }\n",
              "\n",
              "    .dataframe thead th {\n",
              "        text-align: right;\n",
              "    }\n",
              "</style>\n",
              "<table border=\"1\" class=\"dataframe\">\n",
              "  <thead>\n",
              "    <tr style=\"text-align: right;\">\n",
              "      <th></th>\n",
              "      <th>Date</th>\n",
              "      <th>Open</th>\n",
              "      <th>High</th>\n",
              "      <th>Low</th>\n",
              "      <th>Close</th>\n",
              "      <th>Adj Close</th>\n",
              "      <th>Volume</th>\n",
              "    </tr>\n",
              "  </thead>\n",
              "  <tbody>\n",
              "    <tr>\n",
              "      <th>0</th>\n",
              "      <td>1973-02-21</td>\n",
              "      <td>0.000000</td>\n",
              "      <td>10.500000</td>\n",
              "      <td>10.437500</td>\n",
              "      <td>10.437500</td>\n",
              "      <td>0.755265</td>\n",
              "      <td>10200</td>\n",
              "    </tr>\n",
              "    <tr>\n",
              "      <th>1</th>\n",
              "      <td>1973-02-22</td>\n",
              "      <td>0.000000</td>\n",
              "      <td>10.500000</td>\n",
              "      <td>10.375000</td>\n",
              "      <td>10.437500</td>\n",
              "      <td>0.755265</td>\n",
              "      <td>5600</td>\n",
              "    </tr>\n",
              "    <tr>\n",
              "      <th>2</th>\n",
              "      <td>1973-02-23</td>\n",
              "      <td>0.000000</td>\n",
              "      <td>10.562500</td>\n",
              "      <td>10.437500</td>\n",
              "      <td>10.500000</td>\n",
              "      <td>0.759787</td>\n",
              "      <td>1800</td>\n",
              "    </tr>\n",
              "    <tr>\n",
              "      <th>3</th>\n",
              "      <td>1973-02-26</td>\n",
              "      <td>0.000000</td>\n",
              "      <td>10.562500</td>\n",
              "      <td>10.437500</td>\n",
              "      <td>10.500000</td>\n",
              "      <td>0.759787</td>\n",
              "      <td>7200</td>\n",
              "    </tr>\n",
              "    <tr>\n",
              "      <th>4</th>\n",
              "      <td>1973-02-27</td>\n",
              "      <td>0.000000</td>\n",
              "      <td>10.500000</td>\n",
              "      <td>10.500000</td>\n",
              "      <td>10.500000</td>\n",
              "      <td>0.759787</td>\n",
              "      <td>2400</td>\n",
              "    </tr>\n",
              "    <tr>\n",
              "      <th>...</th>\n",
              "      <td>...</td>\n",
              "      <td>...</td>\n",
              "      <td>...</td>\n",
              "      <td>...</td>\n",
              "      <td>...</td>\n",
              "      <td>...</td>\n",
              "      <td>...</td>\n",
              "    </tr>\n",
              "    <tr>\n",
              "      <th>11879</th>\n",
              "      <td>2020-03-26</td>\n",
              "      <td>37.490002</td>\n",
              "      <td>40.750000</td>\n",
              "      <td>37.490002</td>\n",
              "      <td>40.259998</td>\n",
              "      <td>40.259998</td>\n",
              "      <td>640200</td>\n",
              "    </tr>\n",
              "    <tr>\n",
              "      <th>11880</th>\n",
              "      <td>2020-03-27</td>\n",
              "      <td>39.000000</td>\n",
              "      <td>42.730000</td>\n",
              "      <td>38.720001</td>\n",
              "      <td>40.900002</td>\n",
              "      <td>40.900002</td>\n",
              "      <td>441600</td>\n",
              "    </tr>\n",
              "    <tr>\n",
              "      <th>11881</th>\n",
              "      <td>2020-03-30</td>\n",
              "      <td>41.930000</td>\n",
              "      <td>45.830002</td>\n",
              "      <td>41.369999</td>\n",
              "      <td>44.369999</td>\n",
              "      <td>44.369999</td>\n",
              "      <td>1201900</td>\n",
              "    </tr>\n",
              "    <tr>\n",
              "      <th>11882</th>\n",
              "      <td>2020-03-31</td>\n",
              "      <td>43.750000</td>\n",
              "      <td>43.849998</td>\n",
              "      <td>41.639999</td>\n",
              "      <td>42.490002</td>\n",
              "      <td>42.490002</td>\n",
              "      <td>964300</td>\n",
              "    </tr>\n",
              "    <tr>\n",
              "      <th>11883</th>\n",
              "      <td>2020-04-01</td>\n",
              "      <td>40.529999</td>\n",
              "      <td>41.330002</td>\n",
              "      <td>38.860001</td>\n",
              "      <td>39.490002</td>\n",
              "      <td>39.490002</td>\n",
              "      <td>555000</td>\n",
              "    </tr>\n",
              "  </tbody>\n",
              "</table>\n",
              "<p>11884 rows × 7 columns</p>\n",
              "</div>\n",
              "      <button class=\"colab-df-convert\" onclick=\"convertToInteractive('df-fee769fc-dfa5-4e43-86a3-e53b7fc7c0ee')\"\n",
              "              title=\"Convert this dataframe to an interactive table.\"\n",
              "              style=\"display:none;\">\n",
              "        \n",
              "  <svg xmlns=\"http://www.w3.org/2000/svg\" height=\"24px\"viewBox=\"0 0 24 24\"\n",
              "       width=\"24px\">\n",
              "    <path d=\"M0 0h24v24H0V0z\" fill=\"none\"/>\n",
              "    <path d=\"M18.56 5.44l.94 2.06.94-2.06 2.06-.94-2.06-.94-.94-2.06-.94 2.06-2.06.94zm-11 1L8.5 8.5l.94-2.06 2.06-.94-2.06-.94L8.5 2.5l-.94 2.06-2.06.94zm10 10l.94 2.06.94-2.06 2.06-.94-2.06-.94-.94-2.06-.94 2.06-2.06.94z\"/><path d=\"M17.41 7.96l-1.37-1.37c-.4-.4-.92-.59-1.43-.59-.52 0-1.04.2-1.43.59L10.3 9.45l-7.72 7.72c-.78.78-.78 2.05 0 2.83L4 21.41c.39.39.9.59 1.41.59.51 0 1.02-.2 1.41-.59l7.78-7.78 2.81-2.81c.8-.78.8-2.07 0-2.86zM5.41 20L4 18.59l7.72-7.72 1.47 1.35L5.41 20z\"/>\n",
              "  </svg>\n",
              "      </button>\n",
              "      \n",
              "  <style>\n",
              "    .colab-df-container {\n",
              "      display:flex;\n",
              "      flex-wrap:wrap;\n",
              "      gap: 12px;\n",
              "    }\n",
              "\n",
              "    .colab-df-convert {\n",
              "      background-color: #E8F0FE;\n",
              "      border: none;\n",
              "      border-radius: 50%;\n",
              "      cursor: pointer;\n",
              "      display: none;\n",
              "      fill: #1967D2;\n",
              "      height: 32px;\n",
              "      padding: 0 0 0 0;\n",
              "      width: 32px;\n",
              "    }\n",
              "\n",
              "    .colab-df-convert:hover {\n",
              "      background-color: #E2EBFA;\n",
              "      box-shadow: 0px 1px 2px rgba(60, 64, 67, 0.3), 0px 1px 3px 1px rgba(60, 64, 67, 0.15);\n",
              "      fill: #174EA6;\n",
              "    }\n",
              "\n",
              "    [theme=dark] .colab-df-convert {\n",
              "      background-color: #3B4455;\n",
              "      fill: #D2E3FC;\n",
              "    }\n",
              "\n",
              "    [theme=dark] .colab-df-convert:hover {\n",
              "      background-color: #434B5C;\n",
              "      box-shadow: 0px 1px 3px 1px rgba(0, 0, 0, 0.15);\n",
              "      filter: drop-shadow(0px 1px 2px rgba(0, 0, 0, 0.3));\n",
              "      fill: #FFFFFF;\n",
              "    }\n",
              "  </style>\n",
              "\n",
              "      <script>\n",
              "        const buttonEl =\n",
              "          document.querySelector('#df-fee769fc-dfa5-4e43-86a3-e53b7fc7c0ee button.colab-df-convert');\n",
              "        buttonEl.style.display =\n",
              "          google.colab.kernel.accessAllowed ? 'block' : 'none';\n",
              "\n",
              "        async function convertToInteractive(key) {\n",
              "          const element = document.querySelector('#df-fee769fc-dfa5-4e43-86a3-e53b7fc7c0ee');\n",
              "          const dataTable =\n",
              "            await google.colab.kernel.invokeFunction('convertToInteractive',\n",
              "                                                     [key], {});\n",
              "          if (!dataTable) return;\n",
              "\n",
              "          const docLinkHtml = 'Like what you see? Visit the ' +\n",
              "            '<a target=\"_blank\" href=https://colab.research.google.com/notebooks/data_table.ipynb>data table notebook</a>'\n",
              "            + ' to learn more about interactive tables.';\n",
              "          element.innerHTML = '';\n",
              "          dataTable['output_type'] = 'display_data';\n",
              "          await google.colab.output.renderOutput(dataTable, element);\n",
              "          const docLink = document.createElement('div');\n",
              "          docLink.innerHTML = docLinkHtml;\n",
              "          element.appendChild(docLink);\n",
              "        }\n",
              "      </script>\n",
              "    </div>\n",
              "  </div>\n",
              "  "
            ],
            "text/plain": [
              "             Date       Open       High  ...      Close  Adj Close   Volume\n",
              "0      1973-02-21   0.000000  10.500000  ...  10.437500   0.755265    10200\n",
              "1      1973-02-22   0.000000  10.500000  ...  10.437500   0.755265     5600\n",
              "2      1973-02-23   0.000000  10.562500  ...  10.500000   0.759787     1800\n",
              "3      1973-02-26   0.000000  10.562500  ...  10.500000   0.759787     7200\n",
              "4      1973-02-27   0.000000  10.500000  ...  10.500000   0.759787     2400\n",
              "...           ...        ...        ...  ...        ...        ...      ...\n",
              "11879  2020-03-26  37.490002  40.750000  ...  40.259998  40.259998   640200\n",
              "11880  2020-03-27  39.000000  42.730000  ...  40.900002  40.900002   441600\n",
              "11881  2020-03-30  41.930000  45.830002  ...  44.369999  44.369999  1201900\n",
              "11882  2020-03-31  43.750000  43.849998  ...  42.490002  42.490002   964300\n",
              "11883  2020-04-01  40.529999  41.330002  ...  39.490002  39.490002   555000\n",
              "\n",
              "[11884 rows x 7 columns]"
            ]
          },
          "metadata": {},
          "execution_count": 3
        }
      ]
    },
    {
      "cell_type": "code",
      "source": [
        "df.info()"
      ],
      "metadata": {
        "colab": {
          "base_uri": "https://localhost:8080/"
        },
        "id": "DtTdm-pqAAX6",
        "outputId": "445778d5-ee44-4fe5-b901-26dc00acd9f5"
      },
      "execution_count": 4,
      "outputs": [
        {
          "output_type": "stream",
          "name": "stdout",
          "text": [
            "<class 'pandas.core.frame.DataFrame'>\n",
            "RangeIndex: 11884 entries, 0 to 11883\n",
            "Data columns (total 7 columns):\n",
            " #   Column     Non-Null Count  Dtype  \n",
            "---  ------     --------------  -----  \n",
            " 0   Date       11884 non-null  object \n",
            " 1   Open       11884 non-null  float64\n",
            " 2   High       11884 non-null  float64\n",
            " 3   Low        11884 non-null  float64\n",
            " 4   Close      11884 non-null  float64\n",
            " 5   Adj Close  11884 non-null  float64\n",
            " 6   Volume     11884 non-null  int64  \n",
            "dtypes: float64(5), int64(1), object(1)\n",
            "memory usage: 650.0+ KB\n"
          ]
        }
      ]
    },
    {
      "cell_type": "markdown",
      "source": [
        "check apakah ada data yang hilang"
      ],
      "metadata": {
        "id": "Z59P3vfxAEop"
      }
    },
    {
      "cell_type": "code",
      "source": [
        "df.isnull().sum()"
      ],
      "metadata": {
        "colab": {
          "base_uri": "https://localhost:8080/"
        },
        "id": "yXNizNkAAEOx",
        "outputId": "f9a2e1ad-655e-4cb0-f46e-d9e369e4682f"
      },
      "execution_count": 5,
      "outputs": [
        {
          "output_type": "execute_result",
          "data": {
            "text/plain": [
              "Date         0\n",
              "Open         0\n",
              "High         0\n",
              "Low          0\n",
              "Close        0\n",
              "Adj Close    0\n",
              "Volume       0\n",
              "dtype: int64"
            ]
          },
          "metadata": {},
          "execution_count": 5
        }
      ]
    },
    {
      "cell_type": "markdown",
      "source": [
        "plot data dengan matplotlib"
      ],
      "metadata": {
        "id": "5GmyRM3VBib5"
      }
    },
    {
      "cell_type": "code",
      "source": [
        "#ekstraksi date dan close\n",
        "date = df['Date'].values\n",
        "close = df['Close'].values\n",
        "\n",
        "#plot data\n",
        "plt.figure(figsize = (20, 10))\n",
        "plt.plot(date, close)\n",
        "plt.title('Avista Corporation Close Value', fontsize = 20);\n"
      ],
      "metadata": {
        "colab": {
          "base_uri": "https://localhost:8080/",
          "height": 342
        },
        "id": "lQqA8Wq0BhSB",
        "outputId": "a9a79879-2bac-4df9-bf29-9900cdbaa789"
      },
      "execution_count": 6,
      "outputs": [
        {
          "output_type": "display_data",
          "data": {
            "image/png": "[encoded data removed]",
            "text/plain": [
              "<Figure size 1440x720 with 1 Axes>"
            ]
          },
          "metadata": {
            "needs_background": "light"
          }
        }
      ]
    },
    {
      "cell_type": "markdown",
      "source": [
        "# Merancang Model"
      ],
      "metadata": {
        "id": "5ef0pcnmF2av"
      }
    },
    {
      "cell_type": "markdown",
      "source": [
        "Membagi data menjadi data train dan data test"
      ],
      "metadata": {
        "id": "0bXnLYqaFswg"
      }
    },
    {
      "cell_type": "code",
      "source": [
        "data_train, data_test, close_train, close_test = train_test_split(date, close, test_size=0.2, shuffle=False)"
      ],
      "metadata": {
        "id": "cA4UCakdF0HY"
      },
      "execution_count": 7,
      "outputs": []
    },
    {
      "cell_type": "markdown",
      "source": [
        "Mempersiapkan Model dengan Fungsi Windowed"
      ],
      "metadata": {
        "id": "NFt6fDEXHLag"
      }
    },
    {
      "cell_type": "code",
      "source": [
        "def windowed_dataset(series, window_size, batch_size, shuffle_buffer):\n",
        "    series = tf.expand_dims(series, axis=-1)\n",
        "    ds = tf.data.Dataset.from_tensor_slices(series)\n",
        "    ds = ds.window(window_size + 1, shift=1, drop_remainder=True)\n",
        "    ds = ds.flat_map(lambda w: w.batch(window_size + 1))\n",
        "    ds = ds.shuffle(shuffle_buffer)\n",
        "    ds = ds.map(lambda w: (w[:-1], w[-1:]))\n",
        "    return ds.batch(batch_size).prefetch(1)"
      ],
      "metadata": {
        "id": "a3dOYQlDHN93"
      },
      "execution_count": 8,
      "outputs": []
    },
    {
      "cell_type": "code",
      "source": [
        "train_set = windowed_dataset(close_train, window_size = 60, batch_size = 100, shuffle_buffer = 1000)\n",
        "test_set = windowed_dataset(close_test, window_size = 60, batch_size = 100, shuffle_buffer = 1000)"
      ],
      "metadata": {
        "id": "z5lnpR8xHwS_"
      },
      "execution_count": 9,
      "outputs": []
    },
    {
      "cell_type": "markdown",
      "source": [
        "Merancang Model"
      ],
      "metadata": {
        "id": "4M70KvupIX5W"
      }
    },
    {
      "cell_type": "code",
      "source": [
        "model = tf.keras.models.Sequential([\n",
        "  tf.keras.layers.LSTM(60, return_sequences=True),\n",
        "  tf.keras.layers.LSTM(60),\n",
        "  tf.keras.layers.Dense(30, activation=\"relu\"),\n",
        "  tf.keras.layers.Dense(10, activation=\"relu\"),\n",
        "  tf.keras.layers.Dense(1),\n",
        "])"
      ],
      "metadata": {
        "id": "FjqBjcpvIZf3"
      },
      "execution_count": 10,
      "outputs": []
    },
    {
      "cell_type": "markdown",
      "source": [
        "# Training Model dengan fungsi callback"
      ],
      "metadata": {
        "id": "pSzyUp-sI58F"
      }
    },
    {
      "cell_type": "markdown",
      "source": [
        "Mempersiapkan Callback"
      ],
      "metadata": {
        "id": "j3oNvzE1JAp_"
      }
    },
    {
      "cell_type": "code",
      "source": [
        "# Menghitung MAE\n",
        "MAE = 0.1*(max(df.Close)-min(df.Close))\n",
        "MAE"
      ],
      "metadata": {
        "colab": {
          "base_uri": "https://localhost:8080/"
        },
        "id": "6wW7AysdJABO",
        "outputId": "34641317-350c-42b5-aca1-4b33d2ce21f1"
      },
      "execution_count": 11,
      "outputs": [
        {
          "output_type": "execute_result",
          "data": {
            "text/plain": [
              "5.4437500000000005"
            ]
          },
          "metadata": {},
          "execution_count": 11
        }
      ]
    },
    {
      "cell_type": "code",
      "source": [
        "# Inisiasi fungsi callback dengan syarat akurasi 90%\n",
        "class myCallback(tf.keras.callbacks.Callback):\n",
        "  def on_epoch_end(self, epoch, logs={}):\n",
        "    if (logs.get('mae')<MAE) & (logs.get('val_mae')<MAE):\n",
        "      print('\\nMAE telah mencapai <10%!')\n",
        "      self.model.stop_training = True\n",
        "\n",
        "callback = myCallback()"
      ],
      "metadata": {
        "id": "RjjzBMGIJUbG"
      },
      "execution_count": 12,
      "outputs": []
    },
    {
      "cell_type": "markdown",
      "source": [
        "compile dan training"
      ],
      "metadata": {
        "id": "W3SxtfHbKmq2"
      }
    },
    {
      "cell_type": "code",
      "source": [
        "# Compile Model\n",
        "optimizer = tf.keras.optimizers.SGD(learning_rate=1.0000e-04, momentum=0.9)\n",
        "model.compile(\n",
        "    loss=tf.keras.losses.Huber(),\n",
        "    optimizer=optimizer,\n",
        "    metrics=[\"mae\"])\n",
        "\n",
        "# Training Model\n",
        "history = model.fit(\n",
        "    train_set,\n",
        "    batch_size = 3000,                \n",
        "    epochs=100,              \n",
        "    validation_data=test_set,\n",
        "    callbacks=callback,      \n",
        "    verbose=1)               "
      ],
      "metadata": {
        "colab": {
          "base_uri": "https://localhost:8080/"
        },
        "id": "c-BUZDUTKlzG",
        "outputId": "87f38427-5703-4304-ba1a-aa69bd57d952"
      },
      "execution_count": 13,
      "outputs": [
        {
          "output_type": "stream",
          "name": "stdout",
          "text": [
            "Epoch 1/100\n",
            "95/95 [==============================] - 10s 35ms/step - loss: 13.8228 - mae: 14.3228 - val_loss: 34.5029 - val_mae: 35.0029\n",
            "Epoch 2/100\n",
            "95/95 [==============================] - 2s 22ms/step - loss: 11.6981 - mae: 12.1981 - val_loss: 30.7301 - val_mae: 31.2301\n",
            "Epoch 3/100\n",
            "95/95 [==============================] - 2s 23ms/step - loss: 3.6125 - mae: 4.0961 - val_loss: 15.7177 - val_mae: 16.2177\n",
            "Epoch 4/100\n",
            "95/95 [==============================] - 2s 23ms/step - loss: 3.5309 - mae: 4.0037 - val_loss: 15.9936 - val_mae: 16.4936\n",
            "Epoch 5/100\n",
            "95/95 [==============================] - 2s 21ms/step - loss: 3.2763 - mae: 3.7472 - val_loss: 15.8938 - val_mae: 16.3938\n",
            "Epoch 6/100\n",
            "95/95 [==============================] - 2s 22ms/step - loss: 2.9816 - mae: 3.4477 - val_loss: 15.9159 - val_mae: 16.4159\n",
            "Epoch 7/100\n",
            "95/95 [==============================] - 2s 23ms/step - loss: 2.8187 - mae: 3.2827 - val_loss: 15.7610 - val_mae: 16.2610\n",
            "Epoch 8/100\n",
            "95/95 [==============================] - 2s 23ms/step - loss: 2.4904 - mae: 2.9462 - val_loss: 15.8249 - val_mae: 16.3249\n",
            "Epoch 9/100\n",
            "95/95 [==============================] - 2s 23ms/step - loss: 2.3769 - mae: 2.8328 - val_loss: 15.4597 - val_mae: 15.9597\n",
            "Epoch 10/100\n",
            "95/95 [==============================] - 2s 23ms/step - loss: 2.2055 - mae: 2.6597 - val_loss: 15.0271 - val_mae: 15.5271\n",
            "Epoch 11/100\n",
            "95/95 [==============================] - 2s 23ms/step - loss: 1.8394 - mae: 2.2873 - val_loss: 14.4122 - val_mae: 14.9121\n",
            "Epoch 12/100\n",
            "95/95 [==============================] - 2s 23ms/step - loss: 1.5648 - mae: 2.0038 - val_loss: 13.7508 - val_mae: 14.2506\n",
            "Epoch 13/100\n",
            "95/95 [==============================] - 2s 23ms/step - loss: 1.1278 - mae: 1.5519 - val_loss: 13.2251 - val_mae: 13.7249\n",
            "Epoch 14/100\n",
            "95/95 [==============================] - 2s 22ms/step - loss: 0.6048 - mae: 0.9867 - val_loss: 11.8240 - val_mae: 12.3223\n",
            "Epoch 15/100\n",
            "95/95 [==============================] - 2s 22ms/step - loss: 0.1671 - mae: 0.3838 - val_loss: 10.1798 - val_mae: 10.6681\n",
            "Epoch 16/100\n",
            "95/95 [==============================] - 2s 23ms/step - loss: 0.1381 - mae: 0.3345 - val_loss: 9.4346 - val_mae: 9.9087\n",
            "Epoch 17/100\n",
            "95/95 [==============================] - 2s 22ms/step - loss: 0.1269 - mae: 0.3156 - val_loss: 8.8496 - val_mae: 9.3003\n",
            "Epoch 18/100\n",
            "95/95 [==============================] - 2s 23ms/step - loss: 0.1264 - mae: 0.3234 - val_loss: 8.6728 - val_mae: 9.1397\n",
            "Epoch 19/100\n",
            "95/95 [==============================] - 2s 22ms/step - loss: 0.1212 - mae: 0.3167 - val_loss: 8.4013 - val_mae: 8.8683\n",
            "Epoch 20/100\n",
            "95/95 [==============================] - 2s 23ms/step - loss: 0.1217 - mae: 0.3266 - val_loss: 8.1640 - val_mae: 8.6206\n",
            "Epoch 21/100\n",
            "95/95 [==============================] - 4s 42ms/step - loss: 0.1129 - mae: 0.3056 - val_loss: 7.8103 - val_mae: 8.2500\n",
            "Epoch 22/100\n",
            "95/95 [==============================] - 2s 23ms/step - loss: 0.1110 - mae: 0.2979 - val_loss: 7.7724 - val_mae: 8.2424\n",
            "Epoch 23/100\n",
            "95/95 [==============================] - 2s 22ms/step - loss: 0.1050 - mae: 0.2900 - val_loss: 7.3920 - val_mae: 7.8288\n",
            "Epoch 24/100\n",
            "95/95 [==============================] - 2s 23ms/step - loss: 0.1029 - mae: 0.2878 - val_loss: 7.2632 - val_mae: 7.7164\n",
            "Epoch 25/100\n",
            "95/95 [==============================] - 2s 23ms/step - loss: 0.1042 - mae: 0.2977 - val_loss: 7.0060 - val_mae: 7.4363\n",
            "Epoch 26/100\n",
            "95/95 [==============================] - 2s 23ms/step - loss: 0.0972 - mae: 0.2773 - val_loss: 6.8697 - val_mae: 7.3099\n",
            "Epoch 27/100\n",
            "95/95 [==============================] - 2s 23ms/step - loss: 0.0966 - mae: 0.2783 - val_loss: 6.6686 - val_mae: 7.0976\n",
            "Epoch 28/100\n",
            "95/95 [==============================] - 2s 22ms/step - loss: 0.0975 - mae: 0.2785 - val_loss: 6.6204 - val_mae: 7.0575\n",
            "Epoch 29/100\n",
            "95/95 [==============================] - 2s 23ms/step - loss: 0.0945 - mae: 0.2770 - val_loss: 6.5285 - val_mae: 6.9696\n",
            "Epoch 30/100\n",
            "95/95 [==============================] - 2s 23ms/step - loss: 0.0910 - mae: 0.2673 - val_loss: 6.3712 - val_mae: 6.8072\n",
            "Epoch 31/100\n",
            "95/95 [==============================] - 2s 24ms/step - loss: 0.0916 - mae: 0.2706 - val_loss: 6.2062 - val_mae: 6.6292\n",
            "Epoch 32/100\n",
            "95/95 [==============================] - 2s 23ms/step - loss: 0.0904 - mae: 0.2674 - val_loss: 6.1435 - val_mae: 6.5717\n",
            "Epoch 33/100\n",
            "95/95 [==============================] - 2s 22ms/step - loss: 0.0897 - mae: 0.2680 - val_loss: 6.0114 - val_mae: 6.4291\n",
            "Epoch 34/100\n",
            "95/95 [==============================] - 2s 23ms/step - loss: 0.0893 - mae: 0.2686 - val_loss: 6.0248 - val_mae: 6.4503\n",
            "Epoch 35/100\n",
            "95/95 [==============================] - 2s 23ms/step - loss: 0.0872 - mae: 0.2618 - val_loss: 5.9505 - val_mae: 6.3773\n",
            "Epoch 36/100\n",
            "95/95 [==============================] - 2s 24ms/step - loss: 0.0853 - mae: 0.2563 - val_loss: 5.8452 - val_mae: 6.2651\n",
            "Epoch 37/100\n",
            "95/95 [==============================] - 2s 23ms/step - loss: 0.0868 - mae: 0.2638 - val_loss: 5.9044 - val_mae: 6.3454\n",
            "Epoch 38/100\n",
            "95/95 [==============================] - 2s 23ms/step - loss: 0.0879 - mae: 0.2697 - val_loss: 5.8209 - val_mae: 6.2500\n",
            "Epoch 39/100\n",
            "95/95 [==============================] - 2s 23ms/step - loss: 0.0850 - mae: 0.2579 - val_loss: 5.8494 - val_mae: 6.2917\n",
            "Epoch 40/100\n",
            "95/95 [==============================] - 2s 23ms/step - loss: 0.0845 - mae: 0.2600 - val_loss: 5.6573 - val_mae: 6.0707\n",
            "Epoch 41/100\n",
            "95/95 [==============================] - 2s 23ms/step - loss: 0.0974 - mae: 0.2877 - val_loss: 5.7295 - val_mae: 6.1480\n",
            "Epoch 42/100\n",
            "95/95 [==============================] - 2s 23ms/step - loss: 0.0929 - mae: 0.2885 - val_loss: 5.8574 - val_mae: 6.2848\n",
            "Epoch 43/100\n",
            "95/95 [==============================] - 2s 23ms/step - loss: 0.0823 - mae: 0.2530 - val_loss: 5.7611 - val_mae: 6.1866\n",
            "Epoch 44/100\n",
            "95/95 [==============================] - 2s 23ms/step - loss: 0.0826 - mae: 0.2543 - val_loss: 5.6236 - val_mae: 6.0371\n",
            "Epoch 45/100\n",
            "95/95 [==============================] - 2s 23ms/step - loss: 0.0804 - mae: 0.2494 - val_loss: 5.5504 - val_mae: 5.9624\n",
            "Epoch 46/100\n",
            "95/95 [==============================] - 2s 23ms/step - loss: 0.0801 - mae: 0.2485 - val_loss: 5.6444 - val_mae: 6.0841\n",
            "Epoch 47/100\n",
            "95/95 [==============================] - 2s 23ms/step - loss: 0.0825 - mae: 0.2579 - val_loss: 5.6041 - val_mae: 6.0367\n",
            "Epoch 48/100\n",
            "95/95 [==============================] - 2s 23ms/step - loss: 0.0815 - mae: 0.2533 - val_loss: 5.6001 - val_mae: 6.0391\n",
            "Epoch 49/100\n",
            "95/95 [==============================] - 2s 23ms/step - loss: 0.0779 - mae: 0.2452 - val_loss: 5.4865 - val_mae: 5.9127\n",
            "Epoch 50/100\n",
            "95/95 [==============================] - 2s 23ms/step - loss: 0.0779 - mae: 0.2444 - val_loss: 5.3350 - val_mae: 5.7429\n",
            "Epoch 51/100\n",
            "95/95 [==============================] - 2s 23ms/step - loss: 0.0795 - mae: 0.2523 - val_loss: 5.3342 - val_mae: 5.7428\n",
            "Epoch 52/100\n",
            "95/95 [==============================] - 2s 23ms/step - loss: 0.0776 - mae: 0.2461 - val_loss: 5.3562 - val_mae: 5.7717\n",
            "Epoch 53/100\n",
            "95/95 [==============================] - 2s 23ms/step - loss: 0.0786 - mae: 0.2458 - val_loss: 5.4408 - val_mae: 5.8761\n",
            "Epoch 54/100\n",
            "95/95 [==============================] - 2s 24ms/step - loss: 0.0783 - mae: 0.2456 - val_loss: 5.4731 - val_mae: 5.9166\n",
            "Epoch 55/100\n",
            "95/95 [==============================] - 2s 23ms/step - loss: 0.0752 - mae: 0.2389 - val_loss: 5.2578 - val_mae: 5.6656\n",
            "Epoch 56/100\n",
            "95/95 [==============================] - 2s 23ms/step - loss: 0.0752 - mae: 0.2400 - val_loss: 5.2842 - val_mae: 5.6996\n",
            "Epoch 57/100\n",
            "95/95 [==============================] - 2s 23ms/step - loss: 0.0747 - mae: 0.2390 - val_loss: 5.2546 - val_mae: 5.6716\n",
            "Epoch 58/100\n",
            "95/95 [==============================] - 2s 23ms/step - loss: 0.0756 - mae: 0.2401 - val_loss: 5.1933 - val_mae: 5.6020\n",
            "Epoch 59/100\n",
            "95/95 [==============================] - 2s 23ms/step - loss: 0.0763 - mae: 0.2462 - val_loss: 5.2889 - val_mae: 5.7212\n",
            "Epoch 60/100\n",
            "95/95 [==============================] - 2s 23ms/step - loss: 0.0743 - mae: 0.2402 - val_loss: 5.3300 - val_mae: 5.7771\n",
            "Epoch 61/100\n",
            "95/95 [==============================] - 2s 23ms/step - loss: 0.0783 - mae: 0.2554 - val_loss: 5.3028 - val_mae: 5.7452\n",
            "Epoch 62/100\n",
            "95/95 [==============================] - 2s 23ms/step - loss: 0.0735 - mae: 0.2377 - val_loss: 5.1106 - val_mae: 5.5175\n",
            "Epoch 63/100\n",
            "95/95 [==============================] - 2s 23ms/step - loss: 0.0725 - mae: 0.2333 - val_loss: 5.1017 - val_mae: 5.5123\n",
            "Epoch 64/100\n",
            "95/95 [==============================] - 3s 26ms/step - loss: 0.0738 - mae: 0.2375 - val_loss: 5.1214 - val_mae: 5.5348\n",
            "Epoch 65/100\n",
            "95/95 [==============================] - 2s 23ms/step - loss: 0.0718 - mae: 0.2329 - val_loss: 5.2078 - val_mae: 5.6440\n",
            "Epoch 66/100\n",
            "95/95 [==============================] - 2s 23ms/step - loss: 0.0732 - mae: 0.2414 - val_loss: 5.0490 - val_mae: 5.4566\n",
            "Epoch 67/100\n",
            "92/95 [============================>.] - ETA: 0s - loss: 0.0698 - mae: 0.2281\n",
            "MAE telah mencapai <10%!\n",
            "95/95 [==============================] - 3s 25ms/step - loss: 0.0705 - mae: 0.2308 - val_loss: 4.9784 - val_mae: 5.3803\n"
          ]
        }
      ]
    },
    {
      "cell_type": "markdown",
      "source": [
        "Membuat plot loss dan akurasi pada saat training dan validation."
      ],
      "metadata": {
        "id": "apa5HBRWOu5m"
      }
    },
    {
      "cell_type": "code",
      "source": [
        "# Mengambil nilai MAE dan loss dari training model\n",
        "mae = history.history['mae']\n",
        "val_mae = history.history['val_mae']\n",
        "loss = history.history['loss']\n",
        "val_loss = history.history['val_loss']\n",
        "\n",
        "epochs = range(1, len(mae) + 1)\n",
        "\n",
        "# Plot loss\n",
        "plt.figure()\n",
        "plt.plot(epochs, loss, 'r', label='Training loss')\n",
        "plt.plot(epochs, val_loss, 'b', label='Validation loss')\n",
        "plt.title('Loss plot')\n",
        "plt.legend()\n",
        "\n",
        "plt.show()"
      ],
      "metadata": {
        "colab": {
          "base_uri": "https://localhost:8080/",
          "height": 281
        },
        "id": "w2Y2xN_vOwBW",
        "outputId": "6cbe4547-65fb-4f5d-f4fb-49ba51724368"
      },
      "execution_count": 15,
      "outputs": [
        {
          "output_type": "display_data",
          "data": {
            "image/png": "[encoded data removed]",
            "text/plain": [
              "<Figure size 432x288 with 1 Axes>"
            ]
          },
          "metadata": {
            "needs_background": "light"
          }
        }
      ]
    },
    {
      "cell_type": "code",
      "source": [
        "# Plot MAE\n",
        "plt.plot(epochs, mae, 'r', label='Training MAE')\n",
        "plt.plot(epochs, val_mae, 'b', label='Validation MAE')\n",
        "plt.title('MAE plot')\n",
        "plt.legend()\n",
        "plt.show()"
      ],
      "metadata": {
        "colab": {
          "base_uri": "https://localhost:8080/",
          "height": 281
        },
        "id": "Nz_9d8Y-giaQ",
        "outputId": "a4d30cd3-bfa2-49ca-b329-fa839fd566fd"
      },
      "execution_count": 16,
      "outputs": [
        {
          "output_type": "display_data",
          "data": {
            "image/png": "[encoded data removed]",
            "text/plain": [
              "<Figure size 432x288 with 1 Axes>"
            ]
          },
          "metadata": {
            "needs_background": "light"
          }
        }
      ]
    }
  ]
}